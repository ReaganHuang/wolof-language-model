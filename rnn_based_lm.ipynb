{
 "cells": [
  {
   "cell_type": "code",
   "execution_count": 1,
   "metadata": {
    "ExecuteTime": {
     "end_time": "2019-06-17T21:47:24.193749Z",
     "start_time": "2019-06-17T21:47:20.271282Z"
    }
   },
   "outputs": [],
   "source": [
    "%load_ext autoreload\n",
    "%autoreload 2\n",
    "from fastai import *\n",
    "from fastai.text import *\n",
    "from fastai.callbacks import *\n",
    "import numpy as np\n",
    "import spacy"
   ]
  },
  {
   "cell_type": "code",
   "execution_count": 2,
   "metadata": {
    "ExecuteTime": {
     "end_time": "2019-06-17T21:47:53.475349Z",
     "start_time": "2019-06-17T21:47:53.419399Z"
    }
   },
   "outputs": [],
   "source": [
    "DATA_PATH = \"/Users/Reagan/Dropbox/SF_DS/practicum/wolof/fastai/data\"\n",
    "EXTR_PATH = pathlib.Path(f\"{DATA_PATH}/wiki_extr/wo\")"
   ]
  },
  {
   "cell_type": "code",
   "execution_count": 3,
   "metadata": {
    "ExecuteTime": {
     "end_time": "2019-06-17T21:47:53.795023Z",
     "start_time": "2019-06-17T21:47:53.754354Z"
    }
   },
   "outputs": [],
   "source": [
    "LM_PATH = Path(f\"{DATA_PATH}/model/wolooof/\")\n",
    "LM_PATH.mkdir(parents=True, exist_ok=True)"
   ]
  },
  {
   "cell_type": "code",
   "execution_count": 4,
   "metadata": {
    "ExecuteTime": {
     "end_time": "2019-06-17T21:47:54.170290Z",
     "start_time": "2019-06-17T21:47:54.131103Z"
    }
   },
   "outputs": [],
   "source": [
    "lang = 'wo'"
   ]
  },
  {
   "cell_type": "markdown",
   "metadata": {},
   "source": [
    "# build pre-trained model"
   ]
  },
  {
   "cell_type": "code",
   "execution_count": 121,
   "metadata": {
    "ExecuteTime": {
     "end_time": "2019-06-16T03:21:47.930792Z",
     "start_time": "2019-06-16T03:21:34.755866Z"
    }
   },
   "outputs": [],
   "source": [
    "bs = 64\n",
    "data= TextLMDataBunch.from_csv(LM_PATH, 'wolof_types.csv')\n",
    "data.save('data_export.pkl')\n",
    "data = load_data(LM_PATH, 'data_export.pkl', bs=bs)"
   ]
  },
  {
   "cell_type": "code",
   "execution_count": 122,
   "metadata": {
    "ExecuteTime": {
     "end_time": "2019-06-16T03:21:48.490900Z",
     "start_time": "2019-06-16T03:21:47.933638Z"
    }
   },
   "outputs": [],
   "source": [
    "learn = language_model_learner(data, AWD_LSTM, drop_mult=0.5, pretrained=False)"
   ]
  },
  {
   "cell_type": "code",
   "execution_count": 124,
   "metadata": {
    "ExecuteTime": {
     "end_time": "2019-06-16T07:46:30.770727Z",
     "start_time": "2019-06-16T03:21:55.699079Z"
    }
   },
   "outputs": [
    {
     "data": {
      "text/html": [
       "<table border=\"1\" class=\"dataframe\">\n",
       "  <thead>\n",
       "    <tr style=\"text-align: left;\">\n",
       "      <th>epoch</th>\n",
       "      <th>train_loss</th>\n",
       "      <th>valid_loss</th>\n",
       "      <th>accuracy</th>\n",
       "      <th>time</th>\n",
       "    </tr>\n",
       "  </thead>\n",
       "  <tbody>\n",
       "    <tr>\n",
       "      <td>0</td>\n",
       "      <td>6.317068</td>\n",
       "      <td>5.828072</td>\n",
       "      <td>0.137688</td>\n",
       "      <td>27:51</td>\n",
       "    </tr>\n",
       "    <tr>\n",
       "      <td>1</td>\n",
       "      <td>5.282965</td>\n",
       "      <td>4.920443</td>\n",
       "      <td>0.213662</td>\n",
       "      <td>26:39</td>\n",
       "    </tr>\n",
       "    <tr>\n",
       "      <td>2</td>\n",
       "      <td>4.738628</td>\n",
       "      <td>4.559748</td>\n",
       "      <td>0.239494</td>\n",
       "      <td>26:14</td>\n",
       "    </tr>\n",
       "    <tr>\n",
       "      <td>3</td>\n",
       "      <td>4.386663</td>\n",
       "      <td>4.336269</td>\n",
       "      <td>0.260085</td>\n",
       "      <td>25:59</td>\n",
       "    </tr>\n",
       "    <tr>\n",
       "      <td>4</td>\n",
       "      <td>4.044110</td>\n",
       "      <td>4.134867</td>\n",
       "      <td>0.284852</td>\n",
       "      <td>25:56</td>\n",
       "    </tr>\n",
       "    <tr>\n",
       "      <td>5</td>\n",
       "      <td>3.690162</td>\n",
       "      <td>3.933771</td>\n",
       "      <td>0.315579</td>\n",
       "      <td>26:07</td>\n",
       "    </tr>\n",
       "    <tr>\n",
       "      <td>6</td>\n",
       "      <td>3.330341</td>\n",
       "      <td>3.740444</td>\n",
       "      <td>0.348864</td>\n",
       "      <td>25:57</td>\n",
       "    </tr>\n",
       "    <tr>\n",
       "      <td>7</td>\n",
       "      <td>2.987522</td>\n",
       "      <td>3.594601</td>\n",
       "      <td>0.376639</td>\n",
       "      <td>25:56</td>\n",
       "    </tr>\n",
       "    <tr>\n",
       "      <td>8</td>\n",
       "      <td>2.727347</td>\n",
       "      <td>3.528127</td>\n",
       "      <td>0.390787</td>\n",
       "      <td>26:34</td>\n",
       "    </tr>\n",
       "    <tr>\n",
       "      <td>9</td>\n",
       "      <td>2.612818</td>\n",
       "      <td>3.521239</td>\n",
       "      <td>0.392680</td>\n",
       "      <td>27:17</td>\n",
       "    </tr>\n",
       "  </tbody>\n",
       "</table>"
      ],
      "text/plain": [
       "<IPython.core.display.HTML object>"
      ]
     },
     "metadata": {},
     "output_type": "display_data"
    }
   ],
   "source": [
    "lr = 1e-2\n",
    "lr *= bs/48 \n",
    "learn.unfreeze()\n",
    "learn.fit_one_cycle(10, lr, moms=(0.8,0.7))"
   ]
  },
  {
   "cell_type": "markdown",
   "metadata": {
    "ExecuteTime": {
     "end_time": "2019-06-16T00:24:08.843023Z",
     "start_time": "2019-06-16T00:24:08.171889Z"
    }
   },
   "source": [
    "# save pre-trained model and vocab"
   ]
  },
  {
   "cell_type": "code",
   "execution_count": 125,
   "metadata": {
    "ExecuteTime": {
     "end_time": "2019-06-16T08:00:26.806246Z",
     "start_time": "2019-06-16T08:00:25.646305Z"
    }
   },
   "outputs": [],
   "source": [
    "# save model and vocab\n",
    "mdl_path = LM_PATH/'models'\n",
    "mdl_path.mkdir(exist_ok=True)\n",
    "lm_fns = [f'{lang}_wt', f'{lang}_wt_vocab']\n",
    "learn.to_fp32().save(mdl_path/lm_fns[0], with_opt=False)\n",
    "learn.data.vocab.save(mdl_path/(lm_fns[1] + '.pkl'))"
   ]
  },
  {
   "cell_type": "markdown",
   "metadata": {},
   "source": [
    "# fine-tune on new data"
   ]
  },
  {
   "cell_type": "code",
   "execution_count": null,
   "metadata": {},
   "outputs": [],
   "source": [
    "geoall = pd.read_csv(LM_PATH/'wiki_geo.csv')[['text','geo']]\n",
    "train_df, test_df = train_test_split(geoall, test_size=0.2)\n",
    "data_lm = (TextList.from_df(geoall, LM_PATH, cols='text')\n",
    "        .split_by_rand_pct(0.1, seed=42)\n",
    "        .label_for_lm()           \n",
    "        .databunch(bs=bs, num_workers=1))"
   ]
  },
  {
   "cell_type": "code",
   "execution_count": 5,
   "metadata": {
    "ExecuteTime": {
     "end_time": "2019-06-17T21:48:06.222185Z",
     "start_time": "2019-06-17T21:48:05.924283Z"
    }
   },
   "outputs": [],
   "source": [
    "from sklearn.model_selection import train_test_split\n",
    "\n",
    "geoall = pd.read_csv(LM_PATH/'wiki_geo.csv')[['text','geo']]\n",
    "train_df, test_df = train_test_split(geoall, test_size=0.2)"
   ]
  },
  {
   "cell_type": "code",
   "execution_count": 6,
   "metadata": {
    "ExecuteTime": {
     "end_time": "2019-06-17T21:48:07.253089Z",
     "start_time": "2019-06-17T21:48:07.209434Z"
    }
   },
   "outputs": [
    {
     "name": "stdout",
     "output_type": "stream",
     "text": [
      "0.26790697674418606\n",
      "0.2899628252788104\n"
     ]
    }
   ],
   "source": [
    "print(288/1075)\n",
    "print(78/269)"
   ]
  },
  {
   "cell_type": "code",
   "execution_count": 11,
   "metadata": {
    "ExecuteTime": {
     "end_time": "2019-06-17T21:51:47.910173Z",
     "start_time": "2019-06-17T21:51:45.372614Z"
    }
   },
   "outputs": [],
   "source": [
    "bs = 64\n",
    "data_lm = (TextList.from_df(geoall, LM_PATH, cols='text')\n",
    "    .split_by_rand_pct(0.1, seed=42)\n",
    "    .label_for_lm()           \n",
    "    .databunch(bs=bs, num_workers=1))"
   ]
  },
  {
   "cell_type": "code",
   "execution_count": 12,
   "metadata": {
    "ExecuteTime": {
     "end_time": "2019-06-17T21:51:51.655384Z",
     "start_time": "2019-06-17T21:51:51.557140Z"
    }
   },
   "outputs": [
    {
     "data": {
      "text/html": [
       "<table border=\"1\" class=\"dataframe\">\n",
       "  <thead>\n",
       "    <tr style=\"text-align: right;\">\n",
       "      <th>idx</th>\n",
       "      <th>text</th>\n",
       "    </tr>\n",
       "  </thead>\n",
       "  <tbody>\n",
       "    <tr>\n",
       "      <td>0</td>\n",
       "      <td>lu weesu doon gi mu doonoon kenn ci xxunk ak xxunk yi gën a siiw ci àdduna bi ci taariixu xam - xam , doonoon na xalaatkat , ku bari yëggu - yëggu ci yeneen fànn ( tambalee ca xeltu ba ci politig ) . xxmaj boole nañu ko ci gëstukat yi gën a màgg ci xarnub xxup xx . xxmaj bokk na ci li ko gën a siiwal gisiin</td>\n",
       "    </tr>\n",
       "    <tr>\n",
       "      <td>1</td>\n",
       "      <td>xxmaj pakistaan - xxmaj palau - xxmaj palestiin - xxmaj panamaa - xxmaj xxunk - xxmaj gine - xxmaj gu - xxmaj bees - xxmaj xxunk - xxmaj peru - xxmaj xxunk - xxmaj polineesi gu xxmaj faraas - xxmaj poloñ - xxmaj poortorikoo - xxunk xxmaj xxunk - xxmaj réewum xxmaj cek - xxmaj réewum xxmaj diggu xxmaj afrig - xxmaj réewum xxmaj xxunk - xxmaj réewum xxmaj xxunk</td>\n",
       "    </tr>\n",
       "    <tr>\n",
       "      <td>2</td>\n",
       "      <td>ecoopi moo doonoon menn rèew mi ñu xxunk a teg xxmaj cosaan ak diine . xxmaj xool : xxmaj diiney xxunk . xxmaj xxunk - làkk yi ci xayma nee nañ 2 000 làkk ci goxu xxmaj afrik , ñu boole leen ci ñeenti mbooloo , làkk yi fa xxunk xxunk ci . xxmaj xool it . xxmaj koom - koomu xxmaj afrig xxbos réewu xxmaj afrig xxbos xxmaj aamerig</td>\n",
       "    </tr>\n",
       "    <tr>\n",
       "      <td>3</td>\n",
       "      <td>xxunk \" or \" xxmaj xxunk \" ; xxmaj ci faranse mooy \" xxunk xxmaj injiil dañuy gis ñaari nit ñi bokk tur \" xxmaj xxunk \" . xxbos xxmaj ci làkku ibrë la tur wi jóge . xxmaj ci angale mooy \" xxmaj xxunk \" ; xxmaj ci faranse mooy \" xxunk bu mag ba la woon , ci jamano nguuru xxmaj daawuda . xxmaj man nañu ko gis</td>\n",
       "    </tr>\n",
       "    <tr>\n",
       "      <td>4</td>\n",
       "      <td>woon ne xxmaj dafëne nit la woon , ki xxmaj apolo , benn yàllay xxmaj gereg , soppoon . xxmaj apolo dafa ko dàqe di dàqe ba ci mujj xxmaj dafëne dafa soppiku nekk as xxunk bu tudd ' xxunk ' . xxmaj goxu xxmaj dafëne amoon na benn xxunk walla xxunk bi ñu defaroon ngir bànneex rekk bu am xxunk 16 kilomet . xxmaj ca biir màggalukaayu xxmaj dafëne</td>\n",
       "    </tr>\n",
       "  </tbody>\n",
       "</table>"
      ],
      "text/plain": [
       "<IPython.core.display.HTML object>"
      ]
     },
     "metadata": {},
     "output_type": "display_data"
    }
   ],
   "source": [
    "data_lm.show_batch()"
   ]
  },
  {
   "cell_type": "code",
   "execution_count": 128,
   "metadata": {
    "ExecuteTime": {
     "end_time": "2019-06-16T08:01:40.605709Z",
     "start_time": "2019-06-16T08:01:39.625232Z"
    }
   },
   "outputs": [],
   "source": [
    "learn_lm = language_model_learner(data_lm, AWD_LSTM, pretrained_fnames=lm_fns, drop_mult=1.0)  # be careful about the path"
   ]
  },
  {
   "cell_type": "code",
   "execution_count": 129,
   "metadata": {
    "ExecuteTime": {
     "end_time": "2019-06-16T08:01:49.003636Z",
     "start_time": "2019-06-16T08:01:48.951381Z"
    }
   },
   "outputs": [],
   "source": [
    "lr = 1e-3\n",
    "lr *= bs/48"
   ]
  },
  {
   "cell_type": "code",
   "execution_count": 130,
   "metadata": {
    "ExecuteTime": {
     "end_time": "2019-06-16T09:09:20.837656Z",
     "start_time": "2019-06-16T08:01:51.054446Z"
    }
   },
   "outputs": [
    {
     "data": {
      "text/html": [
       "<table border=\"1\" class=\"dataframe\">\n",
       "  <thead>\n",
       "    <tr style=\"text-align: left;\">\n",
       "      <th>epoch</th>\n",
       "      <th>train_loss</th>\n",
       "      <th>valid_loss</th>\n",
       "      <th>accuracy</th>\n",
       "      <th>time</th>\n",
       "    </tr>\n",
       "  </thead>\n",
       "  <tbody>\n",
       "    <tr>\n",
       "      <td>0</td>\n",
       "      <td>5.355139</td>\n",
       "      <td>4.560729</td>\n",
       "      <td>0.326451</td>\n",
       "      <td>08:07</td>\n",
       "    </tr>\n",
       "    <tr>\n",
       "      <td>1</td>\n",
       "      <td>4.993589</td>\n",
       "      <td>4.224590</td>\n",
       "      <td>0.349442</td>\n",
       "      <td>07:43</td>\n",
       "    </tr>\n",
       "    <tr>\n",
       "      <td>2</td>\n",
       "      <td>4.685068</td>\n",
       "      <td>4.001536</td>\n",
       "      <td>0.355134</td>\n",
       "      <td>08:36</td>\n",
       "    </tr>\n",
       "    <tr>\n",
       "      <td>3</td>\n",
       "      <td>4.387579</td>\n",
       "      <td>3.763090</td>\n",
       "      <td>0.354492</td>\n",
       "      <td>08:57</td>\n",
       "    </tr>\n",
       "    <tr>\n",
       "      <td>4</td>\n",
       "      <td>4.087812</td>\n",
       "      <td>3.475447</td>\n",
       "      <td>0.354492</td>\n",
       "      <td>07:52</td>\n",
       "    </tr>\n",
       "    <tr>\n",
       "      <td>5</td>\n",
       "      <td>3.822635</td>\n",
       "      <td>3.340496</td>\n",
       "      <td>0.361189</td>\n",
       "      <td>08:53</td>\n",
       "    </tr>\n",
       "    <tr>\n",
       "      <td>6</td>\n",
       "      <td>3.672056</td>\n",
       "      <td>3.302410</td>\n",
       "      <td>0.365485</td>\n",
       "      <td>08:30</td>\n",
       "    </tr>\n",
       "    <tr>\n",
       "      <td>7</td>\n",
       "      <td>3.614186</td>\n",
       "      <td>3.296517</td>\n",
       "      <td>0.365904</td>\n",
       "      <td>08:48</td>\n",
       "    </tr>\n",
       "  </tbody>\n",
       "</table>"
      ],
      "text/plain": [
       "<IPython.core.display.HTML object>"
      ]
     },
     "metadata": {},
     "output_type": "display_data"
    }
   ],
   "source": [
    "learn_lm.unfreeze()\n",
    "learn_lm.fit_one_cycle(8, lr, moms=(0.8,0.7))  # turn 1 to 8"
   ]
  },
  {
   "cell_type": "code",
   "execution_count": 131,
   "metadata": {
    "ExecuteTime": {
     "end_time": "2019-06-16T09:11:48.280416Z",
     "start_time": "2019-06-16T09:11:47.036452Z"
    }
   },
   "outputs": [],
   "source": [
    "learn_lm.save(f'{lang}fine_tuned')\n",
    "learn_lm.save_encoder(f'{lang}fine_tuned_enc')"
   ]
  },
  {
   "cell_type": "markdown",
   "metadata": {
    "ExecuteTime": {
     "end_time": "2019-06-16T02:38:17.233061Z",
     "start_time": "2019-06-16T02:38:17.176671Z"
    }
   },
   "source": [
    "# build a classifier"
   ]
  },
  {
   "cell_type": "code",
   "execution_count": 13,
   "metadata": {
    "ExecuteTime": {
     "end_time": "2019-06-17T21:52:00.024002Z",
     "start_time": "2019-06-17T21:51:57.313224Z"
    }
   },
   "outputs": [],
   "source": [
    "data_clas = (TextList.from_df(geoall, LM_PATH, vocab=data_lm.vocab, cols='text')\n",
    "    .split_by_rand_pct(0.1, seed=42)\n",
    "    .label_from_df(cols='geo')\n",
    "    .databunch(bs=bs, num_workers=1))\n",
    "\n",
    "data_clas.save(f'{lang}_textlist_class')"
   ]
  },
  {
   "cell_type": "code",
   "execution_count": 14,
   "metadata": {
    "ExecuteTime": {
     "end_time": "2019-06-17T21:52:20.971389Z",
     "start_time": "2019-06-17T21:52:20.772009Z"
    }
   },
   "outputs": [],
   "source": [
    "data_clas = load_data(LM_PATH, f'{lang}_textlist_class', bs=bs, num_workers=1)"
   ]
  },
  {
   "cell_type": "code",
   "execution_count": 37,
   "metadata": {
    "ExecuteTime": {
     "end_time": "2019-06-18T03:02:03.360618Z",
     "start_time": "2019-06-18T03:02:03.298394Z"
    }
   },
   "outputs": [],
   "source": [
    "from sklearn.metrics import f1_score\n",
    "def f1(inp,targ): return f1_score(targ, np.argmax(inp, axis=-1))"
   ]
  },
  {
   "cell_type": "code",
   "execution_count": 23,
   "metadata": {
    "ExecuteTime": {
     "end_time": "2019-06-17T23:40:26.915555Z",
     "start_time": "2019-06-17T23:40:24.741717Z"
    }
   },
   "outputs": [],
   "source": [
    "learn_c = text_classifier_learner(data_clas, AWD_LSTM, drop_mult=0.5)\n",
    "learn_c.load_encoder(f'{lang}fine_tuned_enc')\n",
    "learn_c.freeze()"
   ]
  },
  {
   "cell_type": "code",
   "execution_count": 24,
   "metadata": {
    "ExecuteTime": {
     "end_time": "2019-06-17T23:40:27.832104Z",
     "start_time": "2019-06-17T23:40:27.791281Z"
    }
   },
   "outputs": [],
   "source": [
    "lr=2e-2\n",
    "lr *= bs/48"
   ]
  },
  {
   "cell_type": "code",
   "execution_count": 25,
   "metadata": {
    "ExecuteTime": {
     "end_time": "2019-06-17T23:55:10.765482Z",
     "start_time": "2019-06-17T23:40:28.608979Z"
    }
   },
   "outputs": [
    {
     "data": {
      "text/html": [
       "<table border=\"1\" class=\"dataframe\">\n",
       "  <thead>\n",
       "    <tr style=\"text-align: left;\">\n",
       "      <th>epoch</th>\n",
       "      <th>train_loss</th>\n",
       "      <th>valid_loss</th>\n",
       "      <th>accuracy</th>\n",
       "      <th>time</th>\n",
       "    </tr>\n",
       "  </thead>\n",
       "  <tbody>\n",
       "    <tr>\n",
       "      <td>0</td>\n",
       "      <td>0.522542</td>\n",
       "      <td>0.429010</td>\n",
       "      <td>0.917910</td>\n",
       "      <td>07:56</td>\n",
       "    </tr>\n",
       "    <tr>\n",
       "      <td>1</td>\n",
       "      <td>0.449735</td>\n",
       "      <td>0.277386</td>\n",
       "      <td>0.902985</td>\n",
       "      <td>06:45</td>\n",
       "    </tr>\n",
       "  </tbody>\n",
       "</table>"
      ],
      "text/plain": [
       "<IPython.core.display.HTML object>"
      ]
     },
     "metadata": {},
     "output_type": "display_data"
    }
   ],
   "source": [
    "learn_c.fit_one_cycle(2, lr, moms=(0.8,0.7))"
   ]
  },
  {
   "cell_type": "code",
   "execution_count": 26,
   "metadata": {
    "ExecuteTime": {
     "end_time": "2019-06-18T00:12:27.553312Z",
     "start_time": "2019-06-17T23:57:31.975034Z"
    }
   },
   "outputs": [
    {
     "data": {
      "text/html": [
       "<table border=\"1\" class=\"dataframe\">\n",
       "  <thead>\n",
       "    <tr style=\"text-align: left;\">\n",
       "      <th>epoch</th>\n",
       "      <th>train_loss</th>\n",
       "      <th>valid_loss</th>\n",
       "      <th>accuracy</th>\n",
       "      <th>time</th>\n",
       "    </tr>\n",
       "  </thead>\n",
       "  <tbody>\n",
       "    <tr>\n",
       "      <td>0</td>\n",
       "      <td>0.412928</td>\n",
       "      <td>0.284921</td>\n",
       "      <td>0.880597</td>\n",
       "      <td>08:03</td>\n",
       "    </tr>\n",
       "    <tr>\n",
       "      <td>1</td>\n",
       "      <td>0.366290</td>\n",
       "      <td>0.236806</td>\n",
       "      <td>0.917910</td>\n",
       "      <td>06:50</td>\n",
       "    </tr>\n",
       "  </tbody>\n",
       "</table>"
      ],
      "text/plain": [
       "<IPython.core.display.HTML object>"
      ]
     },
     "metadata": {},
     "output_type": "display_data"
    }
   ],
   "source": [
    "learn_c.freeze_to(-2)\n",
    "learn_c.fit_one_cycle(2, slice(lr/(2.6**4),lr), moms=(0.8,0.7))"
   ]
  },
  {
   "cell_type": "code",
   "execution_count": 27,
   "metadata": {
    "ExecuteTime": {
     "end_time": "2019-06-18T00:41:45.449781Z",
     "start_time": "2019-06-18T00:16:41.160362Z"
    }
   },
   "outputs": [
    {
     "data": {
      "text/html": [
       "<table border=\"1\" class=\"dataframe\">\n",
       "  <thead>\n",
       "    <tr style=\"text-align: left;\">\n",
       "      <th>epoch</th>\n",
       "      <th>train_loss</th>\n",
       "      <th>valid_loss</th>\n",
       "      <th>accuracy</th>\n",
       "      <th>time</th>\n",
       "    </tr>\n",
       "  </thead>\n",
       "  <tbody>\n",
       "    <tr>\n",
       "      <td>0</td>\n",
       "      <td>0.271405</td>\n",
       "      <td>0.326164</td>\n",
       "      <td>0.910448</td>\n",
       "      <td>12:00</td>\n",
       "    </tr>\n",
       "    <tr>\n",
       "      <td>1</td>\n",
       "      <td>0.265042</td>\n",
       "      <td>0.222919</td>\n",
       "      <td>0.932836</td>\n",
       "      <td>13:03</td>\n",
       "    </tr>\n",
       "  </tbody>\n",
       "</table>"
      ],
      "text/plain": [
       "<IPython.core.display.HTML object>"
      ]
     },
     "metadata": {},
     "output_type": "display_data"
    }
   ],
   "source": [
    "learn_c.freeze_to(-3)\n",
    "learn_c.fit_one_cycle(2, slice(lr/2/(2.6**4),lr/2), moms=(0.8,0.7))"
   ]
  },
  {
   "cell_type": "code",
   "execution_count": 28,
   "metadata": {
    "ExecuteTime": {
     "end_time": "2019-06-18T00:56:08.672041Z",
     "start_time": "2019-06-18T00:42:11.640161Z"
    }
   },
   "outputs": [
    {
     "data": {
      "text/html": [
       "<table border=\"1\" class=\"dataframe\">\n",
       "  <thead>\n",
       "    <tr style=\"text-align: left;\">\n",
       "      <th>epoch</th>\n",
       "      <th>train_loss</th>\n",
       "      <th>valid_loss</th>\n",
       "      <th>accuracy</th>\n",
       "      <th>time</th>\n",
       "    </tr>\n",
       "  </thead>\n",
       "  <tbody>\n",
       "    <tr>\n",
       "      <td>0</td>\n",
       "      <td>0.213600</td>\n",
       "      <td>0.226905</td>\n",
       "      <td>0.932836</td>\n",
       "      <td>13:56</td>\n",
       "    </tr>\n",
       "  </tbody>\n",
       "</table>"
      ],
      "text/plain": [
       "<IPython.core.display.HTML object>"
      ]
     },
     "metadata": {},
     "output_type": "display_data"
    }
   ],
   "source": [
    "learn_c.unfreeze()\n",
    "learn_c.fit_one_cycle(1, slice(lr/10/(2.6**4),lr/10), moms=(0.8,0.7))"
   ]
  },
  {
   "cell_type": "code",
   "execution_count": 29,
   "metadata": {
    "ExecuteTime": {
     "end_time": "2019-06-18T00:57:54.323563Z",
     "start_time": "2019-06-18T00:57:53.314788Z"
    }
   },
   "outputs": [],
   "source": [
    "learn_c.save(f'{lang}clas')"
   ]
  },
  {
   "cell_type": "markdown",
   "metadata": {},
   "source": [
    "# prediction"
   ]
  },
  {
   "cell_type": "code",
   "execution_count": 30,
   "metadata": {
    "ExecuteTime": {
     "end_time": "2019-06-18T01:20:46.848667Z",
     "start_time": "2019-06-18T01:20:46.477105Z"
    }
   },
   "outputs": [
    {
     "data": {
      "text/plain": [
       "'Northern Mariana Islands (\"Sankattan Siha Na Islas Mariånas\", Komonwels bu Iil yu Northern Mariana).'"
      ]
     },
     "execution_count": 30,
     "metadata": {},
     "output_type": "execute_result"
    }
   ],
   "source": [
    "test_df.iloc[16]['text']"
   ]
  },
  {
   "cell_type": "code",
   "execution_count": 31,
   "metadata": {
    "ExecuteTime": {
     "end_time": "2019-06-18T01:21:08.624539Z",
     "start_time": "2019-06-18T01:21:02.243624Z"
    }
   },
   "outputs": [
    {
     "data": {
      "text/plain": [
       "(Category 0, tensor(0), tensor([0.9815, 0.0185]))"
      ]
     },
     "execution_count": 31,
     "metadata": {},
     "output_type": "execute_result"
    }
   ],
   "source": [
    "learn_c.predict(test_df.iloc[16]['text'])"
   ]
  },
  {
   "cell_type": "code",
   "execution_count": 39,
   "metadata": {
    "ExecuteTime": {
     "end_time": "2019-06-18T03:04:02.714817Z",
     "start_time": "2019-06-18T03:02:14.371400Z"
    }
   },
   "outputs": [
    {
     "data": {
      "text/plain": [
       "(tensor(0.9328), 0.8421052631578947)"
      ]
     },
     "execution_count": 39,
     "metadata": {},
     "output_type": "execute_result"
    }
   ],
   "source": [
    "preds,targs = learn_c.get_preds(ordered=True)\n",
    "accuracy(preds,targs),f1(preds,targs)"
   ]
  }
 ],
 "metadata": {
  "kernelspec": {
   "display_name": "Python 3",
   "language": "python",
   "name": "python3"
  },
  "language_info": {
   "codemirror_mode": {
    "name": "ipython",
    "version": 3
   },
   "file_extension": ".py",
   "mimetype": "text/x-python",
   "name": "python",
   "nbconvert_exporter": "python",
   "pygments_lexer": "ipython3",
   "version": "3.6.7"
  },
  "toc": {
   "base_numbering": 1,
   "nav_menu": {},
   "number_sections": true,
   "sideBar": true,
   "skip_h1_title": false,
   "title_cell": "Table of Contents",
   "title_sidebar": "Contents",
   "toc_cell": false,
   "toc_position": {},
   "toc_section_display": true,
   "toc_window_display": false
  }
 },
 "nbformat": 4,
 "nbformat_minor": 2
}
