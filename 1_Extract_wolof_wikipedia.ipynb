{
 "cells": [
  {
   "cell_type": "markdown",
   "metadata": {
    "ExecuteTime": {
     "end_time": "2019-05-16T00:04:16.638762Z",
     "start_time": "2019-05-16T00:04:16.634702Z"
    }
   },
   "source": [
    "- There are many ways of scraping data from wolof wikipedia.\n",
    "- Here will list three\n",
    "- In this project, I chose to use Wikipedia Extractor since it's more convenient and complete"
   ]
  },
  {
   "cell_type": "code",
   "execution_count": 43,
   "metadata": {
    "ExecuteTime": {
     "end_time": "2019-05-16T00:25:06.859831Z",
     "start_time": "2019-05-16T00:25:06.856407Z"
    }
   },
   "outputs": [],
   "source": [
    "# One"
   ]
  },
  {
   "cell_type": "code",
   "execution_count": 44,
   "metadata": {
    "ExecuteTime": {
     "end_time": "2019-05-16T00:25:58.644831Z",
     "start_time": "2019-05-16T00:25:58.494378Z"
    }
   },
   "outputs": [],
   "source": [
    "from bs4 import BeautifulSoup as bs\n",
    "import requests\n",
    "\n",
    "res = requests.get(\"https://wo.wikipedia.org/wiki/Xaaj\")\n",
    "soup = bs(res.text, \"html.parser\")\n",
    "\n",
    "text = []\n",
    "for link in soup.find_all(\"div\"):\n",
    "    text.append(link.text)"
   ]
  },
  {
   "cell_type": "code",
   "execution_count": 46,
   "metadata": {
    "ExecuteTime": {
     "end_time": "2019-05-16T00:26:09.278136Z",
     "start_time": "2019-05-16T00:26:09.274415Z"
    }
   },
   "outputs": [],
   "source": [
    "clean_text = [item for item in ''.join(text).split('\\n') if item not in ['', ' ']]"
   ]
  },
  {
   "cell_type": "code",
   "execution_count": 47,
   "metadata": {
    "ExecuteTime": {
     "end_time": "2019-05-16T00:26:13.171758Z",
     "start_time": "2019-05-16T00:26:13.168767Z"
    }
   },
   "outputs": [],
   "source": [
    "# two"
   ]
  },
  {
   "cell_type": "code",
   "execution_count": 49,
   "metadata": {
    "ExecuteTime": {
     "end_time": "2019-05-16T00:26:47.659915Z",
     "start_time": "2019-05-16T00:26:47.656797Z"
    }
   },
   "outputs": [],
   "source": [
    "import wikipedia\n",
    "import re"
   ]
  },
  {
   "cell_type": "code",
   "execution_count": 57,
   "metadata": {
    "ExecuteTime": {
     "end_time": "2019-05-16T00:27:36.532430Z",
     "start_time": "2019-05-16T00:27:35.901972Z"
    }
   },
   "outputs": [],
   "source": [
    "wikipedia.set_lang(\"wo\")\n",
    "p = wikipedia.page(\"dog\")"
   ]
  },
  {
   "cell_type": "code",
   "execution_count": 58,
   "metadata": {
    "ExecuteTime": {
     "end_time": "2019-05-16T00:27:40.204891Z",
     "start_time": "2019-05-16T00:27:40.202088Z"
    }
   },
   "outputs": [],
   "source": [
    "#p.content.split('\\n')"
   ]
  },
  {
   "cell_type": "code",
   "execution_count": 59,
   "metadata": {
    "ExecuteTime": {
     "end_time": "2019-05-16T00:27:40.724071Z",
     "start_time": "2019-05-16T00:27:40.718889Z"
    }
   },
   "outputs": [
    {
     "data": {
      "text/plain": [
       "'https://wo.wikipedia.org/wiki/Koor'"
      ]
     },
     "execution_count": 59,
     "metadata": {},
     "output_type": "execute_result"
    }
   ],
   "source": [
    "p.url"
   ]
  },
  {
   "cell_type": "code",
   "execution_count": 60,
   "metadata": {
    "ExecuteTime": {
     "end_time": "2019-05-16T00:27:44.802560Z",
     "start_time": "2019-05-16T00:27:44.799832Z"
    }
   },
   "outputs": [],
   "source": [
    "# three"
   ]
  },
  {
   "cell_type": "markdown",
   "metadata": {},
   "source": [
    "Use Wikipedia Extractor (Attardi and Fuschetto, 2013)  \n",
    "https://github.com/ReaganHuang/wikiextractor"
   ]
  },
  {
   "cell_type": "code",
   "execution_count": null,
   "metadata": {},
   "outputs": [],
   "source": []
  }
 ],
 "metadata": {
  "kernelspec": {
   "display_name": "Python 3",
   "language": "python",
   "name": "python3"
  },
  "language_info": {
   "codemirror_mode": {
    "name": "ipython",
    "version": 3
   },
   "file_extension": ".py",
   "mimetype": "text/x-python",
   "name": "python",
   "nbconvert_exporter": "python",
   "pygments_lexer": "ipython3",
   "version": "3.6.7"
  }
 },
 "nbformat": 4,
 "nbformat_minor": 2
}
